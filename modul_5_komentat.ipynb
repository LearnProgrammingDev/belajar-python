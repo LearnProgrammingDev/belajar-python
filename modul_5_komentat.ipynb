{
  "nbformat": 4,
  "nbformat_minor": 0,
  "metadata": {
    "colab": {
      "provenance": [],
      "authorship_tag": "ABX9TyOnVcA3oqroMIXOdkZQL6Dn",
      "include_colab_link": true
    },
    "kernelspec": {
      "name": "python3",
      "display_name": "Python 3"
    },
    "language_info": {
      "name": "python"
    }
  },
  "cells": [
    {
      "cell_type": "markdown",
      "metadata": {
        "id": "view-in-github",
        "colab_type": "text"
      },
      "source": [
        "<a href=\"https://colab.research.google.com/github/LearnProgrammingDev/belajar-python/blob/main/modul_5_komentat.ipynb\" target=\"_parent\"><img src=\"https://colab.research.google.com/assets/colab-badge.svg\" alt=\"Open In Colab\"/></a>"
      ]
    },
    {
      "cell_type": "markdown",
      "source": [
        "# Komentar di Python\n",
        "\n",
        "komentar adalah barisan yang tidak akan di eksekusi dan berguna untuk menuliskan dokumentasi kode atau untuk mengingatkan programar pada baris yang di tulis komentar di python pada umumnya mengunakan `#` untuk satu baris dan mengunakan `\"\"\" \"\"\"` untuk banyak baris.\n",
        "contohnya:"
      ],
      "metadata": {
        "id": "F_cuAJ_a3lbG"
      }
    },
    {
      "cell_type": "code",
      "source": [
        "# ini adalah barisan yang tidak akan di eksekusi\n",
        "# komentar satu baris\n",
        "# ini juga tidak di jalankan\n",
        "print(\"Hello Python!\") # baris ini juga\n",
        "\n",
        "\"\"\"\n",
        "ini adalah komentar\n",
        "banyak baris\n",
        "tidak akan di eksekusi\n",
        "\"\"\"\n",
        "\n",
        "print(\"Hello Python!\")\n",
        "\n",
        "print(22) # cetak angka/integer tidak pake \"\""
      ],
      "metadata": {
        "colab": {
          "base_uri": "https://localhost:8080/"
        },
        "id": "HgGcWEWR4c1l",
        "outputId": "9aa9e9a5-4a1a-42ab-dc55-2d53e83a4be6"
      },
      "execution_count": 3,
      "outputs": [
        {
          "output_type": "stream",
          "name": "stdout",
          "text": [
            "Hello Python!\n",
            "Hello Python!\n",
            "22\n"
          ]
        }
      ]
    }
  ]
}