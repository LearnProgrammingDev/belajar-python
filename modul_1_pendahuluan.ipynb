{
  "nbformat": 4,
  "nbformat_minor": 0,
  "metadata": {
    "colab": {
      "provenance": [],
      "authorship_tag": "ABX9TyNr8vsYKd6VKVnzFEsxHizN",
      "include_colab_link": true
    },
    "kernelspec": {
      "name": "python3",
      "display_name": "Python 3"
    },
    "language_info": {
      "name": "python"
    }
  },
  "cells": [
    {
      "cell_type": "markdown",
      "metadata": {
        "id": "view-in-github",
        "colab_type": "text"
      },
      "source": [
        "<a href=\"https://colab.research.google.com/github/LearnProgrammingDev/belajar-python/blob/main/modul_1_pendahuluan.ipynb\" target=\"_parent\"><img src=\"https://colab.research.google.com/assets/colab-badge.svg\" alt=\"Open In Colab\"/></a>"
      ]
    },
    {
      "cell_type": "markdown",
      "source": [
        "# **Pendahuluan Python**\n",
        "\n",
        "python adalah bahasa pemrograman yang mudah dibaca dan sintaks yang jelas, yang membuat python mudah untuk di pelajari pemula atau berpindah bahasa.\n",
        "\n",
        "python muncul pertama kali pada tahun 1991 dan dikembangakan oleh Goudo van rossoum.\n",
        "\n",
        "# sintaks yang simple\n",
        "\n",
        "`print(\"hello world\")`\n",
        "\n",
        "implementasi sintaks yang simple dan mudah di pahami tanpa penambahan  `;`. serta bisa mengunakan kutip satu dan kutip dua lebih rekomendasi kutip dua dan kita bisa mencetak dan menampilkan apapun.\n"
      ],
      "metadata": {
        "id": "ntNlozL0hKJ1"
      }
    },
    {
      "cell_type": "code",
      "source": [
        "print(\"hello world!\")"
      ],
      "metadata": {
        "colab": {
          "base_uri": "https://localhost:8080/"
        },
        "id": "CCG0n_ESj-90",
        "outputId": "95922de0-1984-4aa6-b169-d07a118e0f20"
      },
      "execution_count": 1,
      "outputs": [
        {
          "output_type": "stream",
          "name": "stdout",
          "text": [
            "hello world!\n"
          ]
        }
      ]
    }
  ]
}