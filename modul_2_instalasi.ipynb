{
  "nbformat": 4,
  "nbformat_minor": 0,
  "metadata": {
    "colab": {
      "provenance": [],
      "authorship_tag": "ABX9TyMZPkK1gr1v+SxXfeQu9Rnh",
      "include_colab_link": true
    },
    "kernelspec": {
      "name": "python3",
      "display_name": "Python 3"
    },
    "language_info": {
      "name": "python"
    }
  },
  "cells": [
    {
      "cell_type": "markdown",
      "metadata": {
        "id": "view-in-github",
        "colab_type": "text"
      },
      "source": [
        "<a href=\"https://colab.research.google.com/github/LearnProgrammingDev/belajar-python/blob/main/modul_2_instalasi.ipynb\" target=\"_parent\"><img src=\"https://colab.research.google.com/assets/colab-badge.svg\" alt=\"Open In Colab\"/></a>"
      ]
    },
    {
      "cell_type": "markdown",
      "source": [
        "#Instalasi Python deangan windows\n",
        "Buka browser, kunjungi http://www.python.org/downloads/windows/\n",
        "ATAU, klik direct link https://www.python.org/ftp/python/3.8.1/python-3.8.1.exe\n",
        "Buka (klik 2x) file installer python yang baru saja di download\n",
        "Ikuti langkah instalasi sampai selesai\n",
        "\n",
        "jika mengunakan linux, python sudah terinstall otomatis\n",
        "\n",
        "**tapi kita juga bisa mengunakan tools seperti google colab, tanpa perlu install python lagi dan berbasis browseer serta data file bisa di simpan di cloud.**"
      ],
      "metadata": {
        "id": "2iKX2UW9nir0"
      }
    }
  ]
}