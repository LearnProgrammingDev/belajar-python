{
  "nbformat": 4,
  "nbformat_minor": 0,
  "metadata": {
    "colab": {
      "provenance": [],
      "authorship_tag": "ABX9TyPyvipoHJ7avEJxqdIEgMMc",
      "include_colab_link": true
    },
    "kernelspec": {
      "name": "python3",
      "display_name": "Python 3"
    },
    "language_info": {
      "name": "python"
    }
  },
  "cells": [
    {
      "cell_type": "markdown",
      "metadata": {
        "id": "view-in-github",
        "colab_type": "text"
      },
      "source": [
        "<a href=\"https://colab.research.google.com/github/LearnProgrammingDev/belajar-python/blob/main/modul_3_menjalankan_python.ipynb\" target=\"_parent\"><img src=\"https://colab.research.google.com/assets/colab-badge.svg\" alt=\"Open In Colab\"/></a>"
      ]
    },
    {
      "cell_type": "markdown",
      "source": [
        "# Menjalankan Python\n",
        "\n",
        "menjalankan python dengan terminal atau IDE(integrated development inveironment)\n",
        "contohnya seperti\n",
        "1. terminal\n",
        "buka terminal di windows dan ketik python maka akan masuk ke mode integrated python sehingga kita bisa menjalankan sintak python dan menjalanakannya\n",
        "2. visual studio code\n",
        "kita dimudahakan dengan mengunakan editer text karna mengunakan User Interface yang memiliki antarmuka yang mudah\n",
        "3. pycharm code editor dari jetbrains yang cocok untuk coding python dan kostuminasasi yang kompleks"
      ],
      "metadata": {
        "id": "aHdfjRMavo_M"
      }
    }
  ]
}