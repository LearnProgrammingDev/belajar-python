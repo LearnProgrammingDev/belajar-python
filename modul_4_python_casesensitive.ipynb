{
  "nbformat": 4,
  "nbformat_minor": 0,
  "metadata": {
    "colab": {
      "provenance": [],
      "authorship_tag": "ABX9TyMTubrCKCVDfskp61Z3LtMP",
      "include_colab_link": true
    },
    "kernelspec": {
      "name": "python3",
      "display_name": "Python 3"
    },
    "language_info": {
      "name": "python"
    }
  },
  "cells": [
    {
      "cell_type": "markdown",
      "metadata": {
        "id": "view-in-github",
        "colab_type": "text"
      },
      "source": [
        "<a href=\"https://colab.research.google.com/github/LearnProgrammingDev/belajar-python/blob/main/modul_4_python_casesensitive.ipynb\" target=\"_parent\"><img src=\"https://colab.research.google.com/assets/colab-badge.svg\" alt=\"Open In Colab\"/></a>"
      ]
    },
    {
      "cell_type": "markdown",
      "source": [
        "# Python Case Sensitifity\n",
        "\n",
        "kode python sangat sensitif makanya ketika kita menuliskan sintaksnya harus hati-hati contohnya `print` dan `PRINT` berbeda jika dijalankan akan mengalamain error.\n",
        "\n",
        "begitu juga dengan string dan penamaan variable harus sama\n",
        "contoh:\n",
        "- case sensitiity variabel\n",
        "ketika kita buat variable `nama` kita juga harus memangil `nama` bukan `Nama`\n",
        "- case sensitifity string\n",
        "string misalanya `\"Python\"` dan  `\"python\"` dianggap berbeda karna salah satu huruf berberbeda makanya kita harus hati hati dalam menuliskan sintaks python"
      ],
      "metadata": {
        "id": "dP64E-Oo1Ifo"
      }
    }
  ]
}